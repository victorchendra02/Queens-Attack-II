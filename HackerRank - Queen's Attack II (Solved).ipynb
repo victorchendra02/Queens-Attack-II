{
 "cells": [
  {
   "cell_type": "code",
   "execution_count": 1,
   "metadata": {},
   "outputs": [
    {
     "name": "stdout",
     "output_type": "stream",
     "text": [
      "27\n"
     ]
    }
   ],
   "source": [
    "# HackerRank - Queen's Attack II (Solution)\n",
    "# By: Victor Chendra\n",
    "# Helped by: Jakub Smolaga\n",
    "\n",
    "\n",
    "def queensAttack(n: int, k: int, r_q: int, c_q: int, obstacles: list):\n",
    "    # According to clock wise\n",
    "    up = n - r_q\n",
    "    right = n - c_q\n",
    "    down = r_q - 1\n",
    "    left = c_q - 1\n",
    "\n",
    "    # According to clock wise\n",
    "    diagonal0 = min(up, right)\n",
    "    diagonal1 = min(down, right)\n",
    "    diagonal2 = min(down, left)\n",
    "    diagonal3 = min(up, left)\n",
    "\n",
    "    # ----------------- no obstacles ----------------- #\n",
    "    if k == 0:\n",
    "        return up + right + down + left + diagonal0 + diagonal1 + diagonal2 + diagonal3\n",
    "\n",
    "    # ----------------- there is an obstacle ----------------- #\n",
    "    for o in obstacles:\n",
    "        # Check vertical (when it is on the same coloumn)\n",
    "        if o[1] == c_q:\n",
    "            if o[0] < r_q: # vertical down (below queen)\n",
    "                down = min(down, r_q - 1 - o[0])\n",
    "            else: # vertical up (above queen)\n",
    "                up = min(up, o[0] - r_q - 1)\n",
    "\n",
    "        # Check horizontal (when it is on the same row)\n",
    "        elif o[0] == r_q:\n",
    "            if o[1] < c_q: # horizontal left (before queen)\n",
    "                left = min(left, c_q - 1 - o[1])\n",
    "            else: # horizontal right (after queen)\n",
    "                right = min(right, o[1] - c_q - 1)\n",
    "\n",
    "        # Check diagonal\n",
    "        elif abs(o[0] - r_q) == abs(o[1] - c_q):\n",
    "            # after queen (right)\n",
    "            if o[1] > c_q:\n",
    "                if o[0] > r_q: # quandran 1 (top-right)\n",
    "                    diagonal0 = min(diagonal0, o[1] - c_q - 1)\n",
    "                else: # quandran 2 (bottom-right)\n",
    "                    diagonal1 = min(diagonal1, o[1] - c_q - 1)\n",
    "            \n",
    "            # below queen\n",
    "            else:\n",
    "                if o[0] > r_q: # quandran 4 (up-left)\n",
    "                    diagonal3 = min(diagonal3, c_q - 1 - o[1])\n",
    "                else: # quandran 3 (bottom-left)\n",
    "                    diagonal2 = min(diagonal2, c_q - 1 - o[1])\n",
    "        \n",
    "        # Obstacles is useless\n",
    "        else:\n",
    "            pass\n",
    "    \n",
    "    count = up + right + down + left + diagonal0 + diagonal1 + diagonal2 + diagonal3\n",
    "    return count\n",
    "\n",
    "\n",
    "if __name__ == '__main__':\n",
    "    n = 8\n",
    "    k = 0\n",
    "    r_q = 4\n",
    "    c_q = 4\n",
    "    obstacles = []\n",
    "\n",
    "    print(queensAttack(n, k, r_q, c_q, obstacles))\n"
   ]
  },
  {
   "cell_type": "code",
   "execution_count": null,
   "metadata": {},
   "outputs": [],
   "source": []
  }
 ],
 "metadata": {
  "kernelspec": {
   "display_name": "Python 3.10.2 64-bit",
   "language": "python",
   "name": "python3"
  },
  "language_info": {
   "codemirror_mode": {
    "name": "ipython",
    "version": 3
   },
   "file_extension": ".py",
   "mimetype": "text/x-python",
   "name": "python",
   "nbconvert_exporter": "python",
   "pygments_lexer": "ipython3",
   "version": "3.10.2"
  },
  "orig_nbformat": 4,
  "vscode": {
   "interpreter": {
    "hash": "ae1ddcff7fb3589e56c1735bd04bc544f28a9960cac663cd0016f5d7384b912c"
   }
  }
 },
 "nbformat": 4,
 "nbformat_minor": 2
}
